
with open('./sample_data/sample.txt', 'r') as f:
    docs = f.readlines()
for id, doc in enumerate(docs):
    print('[{}] : {}...'.format(id, doc[:30]))
