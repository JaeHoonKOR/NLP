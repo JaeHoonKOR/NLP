{
  "nbformat": 4,
  "nbformat_minor": 0,
  "metadata": {
    "colab": {
      "provenance": [],
      "authorship_tag": "ABX9TyMyqllAGCPJCjIUSp7LTfVd",
      "include_colab_link": true
    },
    "kernelspec": {
      "name": "python3",
      "display_name": "Python 3"
    },
    "language_info": {
      "name": "python"
    }
  },
  "cells": [
    {
      "cell_type": "markdown",
      "metadata": {
        "id": "view-in-github",
        "colab_type": "text"
      },
      "source": [
        "<a href=\"https://colab.research.google.com/github/JaeHoonKOR/NLP/blob/Colab/word2vec_tmdb.ipynb\" target=\"_parent\"><img src=\"https://colab.research.google.com/assets/colab-badge.svg\" alt=\"Open In Colab\"/></a>"
      ]
    },
    {
      "cell_type": "code",
      "execution_count": null,
      "metadata": {
        "id": "f5lyejrUYhyR"
      },
      "outputs": [],
      "source": [
        "#구글드라이브 마운트\n",
        "from google.colab import drive\n",
        "import os\n",
        "drive.mount('/content/drive') #구글드라이브 마운트 위치"
      ]
    },
    {
      "cell_type": "code",
      "source": [
        "import pandas as pd\n",
        "#구글 드라이브 내 다운로드 받은 csv 파일의 디렉토리 위치 설정\n",
        "path_dir = '/content//sample_data' \n",
        "file = '/content//sample_data/tmdb_5000_movies.csv' #다운로드 받은 파일\n",
        "\n",
        "df = pd.read_csv(file)\n",
        "movies = df[['original_title', 'overview']]\n",
        "movies = movies.dropna(axis=0)              #NaN 값이 있는 행 삭제(axis=1 >> 열 삭제)\n",
        "print(movies.shape)\n"
      ],
      "metadata": {
        "colab": {
          "base_uri": "https://localhost:8080/"
        },
        "id": "XYobCH8-ZAmp",
        "outputId": "08329a2f-a22b-452a-ba86-414a06b1e9eb"
      },
      "execution_count": 7,
      "outputs": [
        {
          "output_type": "stream",
          "name": "stdout",
          "text": [
            "(4800, 2)\n"
          ]
        }
      ]
    },
    {
      "cell_type": "code",
      "source": [
        "import re\n",
        "import nltk\n",
        "from nltk.tokenize import word_tokenize, sent_tokenize\n",
        "nltk.download('punkt')\n",
        "\n",
        "overview_text = movies['overview']\n",
        "\n",
        "normalized_text = []\n",
        "for string in overview_text:\n",
        "     tokens = re.sub(r\"[^a-z0-9]+\", \" \", string.lower())\n",
        "     normalized_text.append(tokens)\n",
        "\n",
        "# 각 문장에 대해서 NLTK를 이용하여 단어 토큰화를 수행.\n",
        "result = [word_tokenize(sentence) for sentence in normalized_text]\n",
        "print('총 샘플의 개수 : {}'.format(len(result)))\n"
      ],
      "metadata": {
        "colab": {
          "base_uri": "https://localhost:8080/"
        },
        "id": "zcX5yvbYgu5e",
        "outputId": "094f6678-660b-4ae3-bddd-44d71eb0d100"
      },
      "execution_count": 8,
      "outputs": [
        {
          "output_type": "stream",
          "name": "stderr",
          "text": [
            "[nltk_data] Downloading package punkt to /root/nltk_data...\n",
            "[nltk_data]   Unzipping tokenizers/punkt.zip.\n"
          ]
        },
        {
          "output_type": "stream",
          "name": "stdout",
          "text": [
            "총 샘플의 개수 : 4800\n"
          ]
        }
      ]
    },
    {
      "cell_type": "code",
      "source": [
        "from gensim.models import Word2Vec\n",
        "from gensim.models import KeyedVectors\n",
        "\n",
        "model = Word2Vec(sentences=result, vector_size=100, window=2, min_count=5, workers=4, sg=0)\n",
        "model.save(path_dir+'tmdb.model')"
      ],
      "metadata": {
        "id": "ccsUsxKkg0qN"
      },
      "execution_count": 9,
      "outputs": []
    },
    {
      "cell_type": "code",
      "source": [
        "from gensim.models import Word2Vec\n",
        "\n",
        "# CBOW로 Word2Vec 모델 학습\n",
        "model = Word2Vec(sentences=result, vector_size=100, window=2, min_count=5, workers=4, sg=0)\n",
        "\n",
        "# CBOW 모델을 파일로 저장\n",
        "model.wv.save_word2vec_format('TMDB.cbow', binary=False)\n"
      ],
      "metadata": {
        "id": "jyV0f-lLg3Wr"
      },
      "execution_count": 10,
      "outputs": []
    },
    {
      "cell_type": "code",
      "source": [
        "\n",
        "print(model)"
      ],
      "metadata": {
        "colab": {
          "base_uri": "https://localhost:8080/"
        },
        "id": "m935sTR0g-do",
        "outputId": "182e675f-e2a4-4a5a-bd5f-31559eb4c050"
      },
      "execution_count": 11,
      "outputs": [
        {
          "output_type": "stream",
          "name": "stdout",
          "text": [
            "Word2Vec<vocab=5549, vector_size=100, alpha=0.025>\n"
          ]
        }
      ]
    },
    {
      "cell_type": "code",
      "source": [
        "from gensim.models import Word2Vec\n",
        "from gensim.models import KeyedVectors\n",
        "from google.colab import files\n",
        "\n",
        "# Skip-gram으로 Word2Vec 모델 학습\n",
        "model = Word2Vec(sentences=result, vector_size=100, window=2, min_count=5, workers=4, sg=1)\n",
        "\n",
        "# 모델의 KeyedVectors 객체 추출\n",
        "word_vectors = model.wv\n",
        "\n",
        "# KeyedVectors 객체를 파일로 저장\n",
        "word_vectors.save_word2vec_format('TMDB.sg', binary=False)\n",
        "\n",
        "# 파일 다운로드\n",
        "print(word_vectors)\n",
        "\n"
      ],
      "metadata": {
        "colab": {
          "base_uri": "https://localhost:8080/"
        },
        "id": "aLoW0rOYhBy2",
        "outputId": "fad9f719-c404-43c0-81d5-799d7aedff43"
      },
      "execution_count": 12,
      "outputs": [
        {
          "output_type": "stream",
          "name": "stdout",
          "text": [
            "KeyedVectors<vector_size=100, 5549 keys>\n"
          ]
        }
      ]
    },
    {
      "cell_type": "code",
      "source": [
        "w2v_tmdb = path_dir+'w2v_tmdb'\n",
        "\n",
        "word_vectors = model.wv\n",
        "word_vectors.save(w2v_tmdb)\n",
        "\n",
        "wv = KeyedVectors.load(w2v_tmdb, mmap='r')\n",
        "print(wv.vectors.shape)\n"
      ],
      "metadata": {
        "colab": {
          "base_uri": "https://localhost:8080/"
        },
        "id": "nvhgvmHHhLu5",
        "outputId": "1e42c415-9a6e-46dd-cca1-5d0c448fef91"
      },
      "execution_count": 13,
      "outputs": [
        {
          "output_type": "stream",
          "name": "stdout",
          "text": [
            "(5549, 100)\n"
          ]
        }
      ]
    },
    {
      "cell_type": "code",
      "source": [
        "result = wv.most_similar(positive=['action', 'man'], negative=['woman'])\n",
        "most_similar_key, similarity = result[0]\n",
        "print(f\"{most_similar_key}: {similarity:.4f}\")\n"
      ],
      "metadata": {
        "colab": {
          "base_uri": "https://localhost:8080/"
        },
        "id": "YOJ_6YgchQD8",
        "outputId": "e8d4254e-c11c-4575-977f-7bab23d47af9"
      },
      "execution_count": 14,
      "outputs": [
        {
          "output_type": "stream",
          "name": "stdout",
          "text": [
            "us: 0.9105\n"
          ]
        }
      ]
    },
    {
      "cell_type": "code",
      "source": [
        "result = wv.similar_by_word(\"man\")\n",
        "most_similar_key, similarity = result[0]\n",
        "print(f\"{most_similar_key}: {similarity:.4f}\")"
      ],
      "metadata": {
        "colab": {
          "base_uri": "https://localhost:8080/"
        },
        "id": "LLL4G84JhU2Y",
        "outputId": "ba6176da-07f6-4d25-d63e-388c802b574e"
      },
      "execution_count": 15,
      "outputs": [
        {
          "output_type": "stream",
          "name": "stdout",
          "text": [
            "woman: 0.9198\n"
          ]
        }
      ]
    },
    {
      "cell_type": "code",
      "source": [
        "distance = wv.distance(\"batman\", \"batman\")\n",
        "print(f\"{distance:.1f}\")\n"
      ],
      "metadata": {
        "colab": {
          "base_uri": "https://localhost:8080/"
        },
        "id": "iExkR2AHhX43",
        "outputId": "770ffc00-8f41-4247-da54-177419ccdc8a"
      },
      "execution_count": 16,
      "outputs": [
        {
          "output_type": "stream",
          "name": "stdout",
          "text": [
            "0.0\n"
          ]
        }
      ]
    },
    {
      "cell_type": "code",
      "source": [
        "similarity = wv.n_similarity(['action', 'batman'], ['romance', 'comic'])\n",
        "print(f\"{similarity:.4f}\")\n",
        "\n",
        "###출력결과\n",
        "0.9992"
      ],
      "metadata": {
        "colab": {
          "base_uri": "https://localhost:8080/"
        },
        "id": "NV6ayg8_hwWW",
        "outputId": "5212fc55-e171-4699-c45d-4ddca5192968"
      },
      "execution_count": 17,
      "outputs": [
        {
          "output_type": "stream",
          "name": "stdout",
          "text": [
            "0.9440\n"
          ]
        },
        {
          "output_type": "execute_result",
          "data": {
            "text/plain": [
              "0.9992"
            ]
          },
          "metadata": {},
          "execution_count": 17
        }
      ]
    }
  ]
}